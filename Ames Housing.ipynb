{
 "cells": [
  {
   "cell_type": "code",
   "execution_count": null,
   "metadata": {},
   "outputs": [],
   "source": [
    "import numpy as np\n",
    "import pandas as pd\n",
    "import csc665.features as ft\n",
    "import csc665.metrics as mt\n",
    "from csc665.ensemble import RandomForestRegressor as our_rfr\n",
    "from sklearn.ensemble import RandomForestRegressor as sk_rfr"
   ]
  },
  {
   "cell_type": "code",
   "execution_count": null,
   "metadata": {},
   "outputs": [],
   "source": [
    "def preprocess_train(csv_df, target_col_name):\n",
    "    \n",
    "    # replace all NA values with zero\n",
    "    csv_df_temp = csv_df.copy().fillna(0)\n",
    "    \n",
    "    # convert all strings to numbers\n",
    "    string_columns = list(csv_df_temp.select_dtypes(exclude='number'))\n",
    "    ft.create_categories(csv_df_temp, string_columns)\n",
    "    \n",
    "    # split the data frame into x and y\n",
    "    csv_df_x = csv_df_temp.drop(target_col_name, axis=1)\n",
    "    csv_df_y = csv_df_temp[target_col_name].values\n",
    "    \n",
    "    return csv_df_x, csv_df_y"
   ]
  },
  {
   "cell_type": "code",
   "execution_count": null,
   "metadata": {},
   "outputs": [],
   "source": [
    "def preprocess_test(csv_df):\n",
    "    \n",
    "    # replace all NA values with zero\n",
    "    csv_df_temp = csv_df.copy().fillna(0)\n",
    "    \n",
    "    # convert all strings to numbers\n",
    "    string_columns = list(csv_df_temp.select_dtypes(exclude='number'))\n",
    "    ft.create_categories(csv_df_temp, string_columns)\n",
    "    \n",
    "    return csv_df_temp"
   ]
  },
  {
   "cell_type": "code",
   "execution_count": null,
   "metadata": {},
   "outputs": [],
   "source": [
    "def rmse_log(y_predicted, y_true):\n",
    "    \n",
    "    # calculate the RMSE of the natural log applied element-wise to y_predicted and y_true\n",
    "    log_rmse = mt.rmse(np.log(y_predicted), np.log(y_true))\n",
    "    \n",
    "    return log_rmse"
   ]
  },
  {
   "cell_type": "code",
   "execution_count": null,
   "metadata": {},
   "outputs": [],
   "source": [
    "# read CSV files\n",
    "train_df = pd.read_csv(\"train.csv\")\n",
    "test_df = pd.read_csv(\"test.csv\")"
   ]
  },
  {
   "cell_type": "code",
   "execution_count": null,
   "metadata": {},
   "outputs": [],
   "source": [
    "# preprocess and split train set into x and y, replace all NaN elements with 0\n",
    "x_train_df, y_train_df = preprocess_train(train_df, \"SalePrice\")\n",
    "\n",
    "# convert all strings in test set to numbers, replace all NaN elements with 0\n",
    "x_test_df = preprocess_test(test_df)"
   ]
  },
  {
   "cell_type": "markdown",
   "metadata": {},
   "source": [
    "# Our Random Forest Library"
   ]
  },
  {
   "cell_type": "code",
   "execution_count": null,
   "metadata": {},
   "outputs": [],
   "source": [
    "# fit our random forest regressor\n",
    "ours = our_rfr(10, 0.4)\n",
    "ours.fit(x_train_df, y_train_df)"
   ]
  },
  {
   "cell_type": "code",
   "execution_count": null,
   "metadata": {},
   "outputs": [],
   "source": [
    "# predict and score (train set)\n",
    "ours_prediction_train = ours.predict(x_train_df)\n",
    "ours_score_train = mt.rsq(ours_prediction_train, y_train_df)\n",
    "ours_rmse_log_train = rmse_log(ours_prediction_train, y_train_df)\n",
    "print(\"Log RMSE: \", ours_rmse_log_train)\n",
    "print(\"RSQ: \", ours_score_train)"
   ]
  },
  {
   "cell_type": "code",
   "execution_count": null,
   "metadata": {},
   "outputs": [],
   "source": [
    "# predict (test set)\n",
    "ours_prediction_test = ours.predict(x_test_df)"
   ]
  },
  {
   "cell_type": "markdown",
   "metadata": {},
   "source": [
    "# scikit-learn's Random Forest Library"
   ]
  },
  {
   "cell_type": "code",
   "execution_count": null,
   "metadata": {},
   "outputs": [],
   "source": [
    "# fit scikit-learn's random forest regressor\n",
    "sk = sk_rfr(n_estimators = 400, n_jobs=-1)\n",
    "sk.fit(x_train_df, y_train_df)"
   ]
  },
  {
   "cell_type": "code",
   "execution_count": null,
   "metadata": {},
   "outputs": [],
   "source": [
    "# predict and score (train set)\n",
    "sk_prediction_train = sk.predict(x_train_df)\n",
    "sk_score_train = sk.score(x_train_df, y_train_df)\n",
    "sk_rmse_log_train = rmse_log(sk_prediction_train, y_train_df)\n",
    "print(\"Log RMSE: \", sk_rmse_log_train)\n",
    "print(\"RSQ: \", sk_score_train)"
   ]
  },
  {
   "cell_type": "code",
   "execution_count": null,
   "metadata": {},
   "outputs": [],
   "source": [
    "# predict (test set)\n",
    "sk_prediction_test = sk.predict(x_test_df)"
   ]
  },
  {
   "cell_type": "markdown",
   "metadata": {},
   "source": [
    "# Submission"
   ]
  },
  {
   "cell_type": "code",
   "execution_count": null,
   "metadata": {},
   "outputs": [],
   "source": [
    "# output predictions from both our random forest regressor and scikit-learn's random forest regressor\n",
    "sk_predictions = pd.DataFrame({'Id': x_test_df.Id, 'SalePrice': sk_prediction_test})\n",
    "sk_predictions.to_csv('submission_sk.csv', index=False)\n",
    "our_predictions = pd.DataFrame({'Id': x_test_df.Id, 'SalePrice': ours_prediction_test})\n",
    "our_predictions.to_csv('submission_665.csv', index=False)"
   ]
  },
  {
   "cell_type": "markdown",
   "metadata": {},
   "source": [
    "# Final Output"
   ]
  },
  {
   "cell_type": "code",
   "execution_count": null,
   "metadata": {},
   "outputs": [],
   "source": [
    "# Log RMSE\n",
    "if sk_rmse_log_train < our_rmse_log_train:\n",
    "    print(\"Log RMSE: \", sk_rmse_log_train)\n",
    "else:\n",
    "    print(\"Log RMSE: \", our_rmse_log_train)\n",
    "\n",
    "# RSQ\n",
    "if sk_score_train < our_score_train:\n",
    "        print(\"Log RMSE: \", sk_rmse_log_train)"
   ]
  }
 ],
 "metadata": {
  "kernelspec": {
   "display_name": "Python 3",
   "language": "python",
   "name": "python3"
  },
  "language_info": {
   "codemirror_mode": {
    "name": "ipython",
    "version": 3
   },
   "file_extension": ".py",
   "mimetype": "text/x-python",
   "name": "python",
   "nbconvert_exporter": "python",
   "pygments_lexer": "ipython3",
   "version": "3.6.8"
  }
 },
 "nbformat": 4,
 "nbformat_minor": 2
}
