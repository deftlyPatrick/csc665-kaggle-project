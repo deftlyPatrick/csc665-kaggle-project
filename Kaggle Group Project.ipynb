{
 "cells": [
  {
   "cell_type": "markdown",
   "metadata": {},
   "source": [
    "# Kaggle Project Submission Form | Spring 2019 CSC 665\n",
    "\n",
    "Please fill out the following sections.\n"
   ]
  },
  {
   "cell_type": "markdown",
   "metadata": {},
   "source": [
    "# 1. Dataset and Metrics\n",
    "\n",
    "    Is it image, text processing, tabular dataset, etc.?\n",
    "\n",
    "    What metrics does Kaggle use to evaluate this competition? Provide exact formulas, and your implementation, or refer to the existing API (NumPy, Pytorch, etc.)\n",
    "\n",
    "    How many samples does the entire dataset have?\n",
    "\n",
    "    How many features?\n",
    "\n",
    "    What's the highest test score your achieved on Kaggle (the actual score value, not your leaderboard position).\n"
   ]
  },
  {
   "cell_type": "markdown",
   "metadata": {},
   "source": [
    "# 2. Model Selection\n",
    "\n",
    "    What algorithms have you chosen? If you've tried multiple models, list them all. Describe your reasoning for choosing these particular models.\n",
    "\n",
    "    What are the best hyper-parameter settings you've found (e.g. the number of trees, any regularization, sampling ratio, learning rate, the size of the NN, etc.)\n"
   ]
  },
  {
   "cell_type": "markdown",
   "metadata": {},
   "source": [
    "# 3. Training & Validation\n",
    "\n",
    "    What is your training and test split approach?\n",
    "\n",
    "    What methods did you use to evaluate your performance on your datasets. Provide the exact formula and the implementation, or refer to an existing API.\n",
    "\n",
    "    2.1 What is the best score you've achieved?\n"
   ]
  },
  {
   "cell_type": "markdown",
   "metadata": {},
   "source": [
    "# 4. Your Code\n",
    "\n",
    "    Include the your entire training and testing pipeline. It should run without any errors.\n",
    "\n",
    "    Include links to the data to be downloaded here, e.g. https://www.kaggle.com/c/10385/download-all.\n",
    "\n",
    "    Assume your dataset is stored in the data subfolder (relative to the notebook). File name should match the downloaded files.\n",
    "\n",
    "    Print your (train score, test score) as the last output of your notebook. This score formula should match what you've described in #3.2.\n"
   ]
  },
  {
   "cell_type": "code",
   "execution_count": null,
   "metadata": {},
   "outputs": [],
   "source": []
  }
 ],
 "metadata": {
  "kernelspec": {
   "display_name": "Python 3",
   "language": "python",
   "name": "python3"
  },
  "language_info": {
   "codemirror_mode": {
    "name": "ipython",
    "version": 3
   },
   "file_extension": ".py",
   "mimetype": "text/x-python",
   "name": "python",
   "nbconvert_exporter": "python",
   "pygments_lexer": "ipython3",
   "version": "3.6.8"
  }
 },
 "nbformat": 4,
 "nbformat_minor": 2
}
